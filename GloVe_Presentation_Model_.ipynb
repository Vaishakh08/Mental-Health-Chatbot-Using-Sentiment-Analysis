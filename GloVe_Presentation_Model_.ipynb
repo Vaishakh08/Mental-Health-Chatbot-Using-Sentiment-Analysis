{
  "nbformat": 4,
  "nbformat_minor": 0,
  "metadata": {
    "accelerator": "GPU",
    "colab": {
      "name": "GloVe Presentation Model .ipynb",
      "provenance": [],
      "collapsed_sections": [],
      "mount_file_id": "1Yu_Kr9iQOD8xp4ppNO1Y4UQKtVgAdMft",
      "authorship_tag": "ABX9TyNuSCVPHIFASMmLAh1d5E9J",
      "include_colab_link": true
    },
    "kernelspec": {
      "display_name": "Python 3",
      "name": "python3"
    },
    "language_info": {
      "name": "python"
    }
  },
  "cells": [
    {
      "cell_type": "markdown",
      "metadata": {
        "id": "view-in-github",
        "colab_type": "text"
      },
      "source": [
        "<a href=\"https://colab.research.google.com/github/Vaishakh08/Vaishakh08/blob/main/GloVe_Presentation_Model_.ipynb\" target=\"_parent\"><img src=\"https://colab.research.google.com/assets/colab-badge.svg\" alt=\"Open In Colab\"/></a>"
      ]
    },
    {
      "cell_type": "code",
      "metadata": {
        "id": "dap5yPVpRKUo",
        "colab": {
          "base_uri": "https://localhost:8080/"
        },
        "outputId": "8f1a6cf4-cf5c-44eb-8549-407e4acd42bf"
      },
      "source": [
        "import tensorflow as tf\n",
        "import matplotlib.pyplot as plt\n",
        "import pandas as pd\n",
        "import numpy as np\n",
        "import pickle\n",
        "\n",
        "import nltk \n",
        "nltk.download('stopwords')\n",
        "from nltk.corpus import stopwords\n",
        "from nltk.stem import SnowballStemmer\n",
        "\n",
        "\n",
        "\n",
        "from sklearn.model_selection import train_test_split\n",
        "from sklearn.preprocessing import LabelEncoder\n",
        "\n",
        "\n",
        "import re"
      ],
      "execution_count": null,
      "outputs": [
        {
          "output_type": "stream",
          "text": [
            "[nltk_data] Downloading package stopwords to /root/nltk_data...\n",
            "[nltk_data]   Package stopwords is already up-to-date!\n"
          ],
          "name": "stdout"
        }
      ]
    },
    {
      "cell_type": "code",
      "metadata": {
        "id": "Gk2uZKxARi3W",
        "colab": {
          "base_uri": "https://localhost:8080/",
          "height": 198
        },
        "outputId": "e9bea948-2a12-486a-9bc5-67030642cb57"
      },
      "source": [
        "df = pd.read_csv('/content/drive/MyDrive/Dataset/training.1600000.processed.noemoticon.csv',\n",
        "                 encoding = 'latin',header=None)\n",
        "df.head()"
      ],
      "execution_count": null,
      "outputs": [
        {
          "output_type": "execute_result",
          "data": {
            "text/html": [
              "<div>\n",
              "<style scoped>\n",
              "    .dataframe tbody tr th:only-of-type {\n",
              "        vertical-align: middle;\n",
              "    }\n",
              "\n",
              "    .dataframe tbody tr th {\n",
              "        vertical-align: top;\n",
              "    }\n",
              "\n",
              "    .dataframe thead th {\n",
              "        text-align: right;\n",
              "    }\n",
              "</style>\n",
              "<table border=\"1\" class=\"dataframe\">\n",
              "  <thead>\n",
              "    <tr style=\"text-align: right;\">\n",
              "      <th></th>\n",
              "      <th>0</th>\n",
              "      <th>1</th>\n",
              "      <th>2</th>\n",
              "      <th>3</th>\n",
              "      <th>4</th>\n",
              "      <th>5</th>\n",
              "    </tr>\n",
              "  </thead>\n",
              "  <tbody>\n",
              "    <tr>\n",
              "      <th>0</th>\n",
              "      <td>0</td>\n",
              "      <td>1467810369</td>\n",
              "      <td>Mon Apr 06 22:19:45 PDT 2009</td>\n",
              "      <td>NO_QUERY</td>\n",
              "      <td>_TheSpecialOne_</td>\n",
              "      <td>@switchfoot http://twitpic.com/2y1zl - Awww, t...</td>\n",
              "    </tr>\n",
              "    <tr>\n",
              "      <th>1</th>\n",
              "      <td>0</td>\n",
              "      <td>1467810672</td>\n",
              "      <td>Mon Apr 06 22:19:49 PDT 2009</td>\n",
              "      <td>NO_QUERY</td>\n",
              "      <td>scotthamilton</td>\n",
              "      <td>is upset that he can't update his Facebook by ...</td>\n",
              "    </tr>\n",
              "    <tr>\n",
              "      <th>2</th>\n",
              "      <td>0</td>\n",
              "      <td>1467810917</td>\n",
              "      <td>Mon Apr 06 22:19:53 PDT 2009</td>\n",
              "      <td>NO_QUERY</td>\n",
              "      <td>mattycus</td>\n",
              "      <td>@Kenichan I dived many times for the ball. Man...</td>\n",
              "    </tr>\n",
              "    <tr>\n",
              "      <th>3</th>\n",
              "      <td>0</td>\n",
              "      <td>1467811184</td>\n",
              "      <td>Mon Apr 06 22:19:57 PDT 2009</td>\n",
              "      <td>NO_QUERY</td>\n",
              "      <td>ElleCTF</td>\n",
              "      <td>my whole body feels itchy and like its on fire</td>\n",
              "    </tr>\n",
              "    <tr>\n",
              "      <th>4</th>\n",
              "      <td>0</td>\n",
              "      <td>1467811193</td>\n",
              "      <td>Mon Apr 06 22:19:57 PDT 2009</td>\n",
              "      <td>NO_QUERY</td>\n",
              "      <td>Karoli</td>\n",
              "      <td>@nationwideclass no, it's not behaving at all....</td>\n",
              "    </tr>\n",
              "  </tbody>\n",
              "</table>\n",
              "</div>"
            ],
            "text/plain": [
              "   0  ...                                                  5\n",
              "0  0  ...  @switchfoot http://twitpic.com/2y1zl - Awww, t...\n",
              "1  0  ...  is upset that he can't update his Facebook by ...\n",
              "2  0  ...  @Kenichan I dived many times for the ball. Man...\n",
              "3  0  ...    my whole body feels itchy and like its on fire \n",
              "4  0  ...  @nationwideclass no, it's not behaving at all....\n",
              "\n",
              "[5 rows x 6 columns]"
            ]
          },
          "metadata": {
            "tags": []
          },
          "execution_count": 5
        }
      ]
    },
    {
      "cell_type": "markdown",
      "metadata": {
        "id": "TrdRqb6gBM0A"
      },
      "source": [
        "Giving Labels"
      ]
    },
    {
      "cell_type": "code",
      "metadata": {
        "id": "jsMYAYAMRopJ",
        "colab": {
          "base_uri": "https://localhost:8080/",
          "height": 198
        },
        "outputId": "4ffc5809-0c9b-4dee-f572-cb89b6f0895b"
      },
      "source": [
        "df.columns = ['sentiment', 'id', 'date', 'query', 'user_id', 'text']\n",
        "df.head()"
      ],
      "execution_count": null,
      "outputs": [
        {
          "output_type": "execute_result",
          "data": {
            "text/html": [
              "<div>\n",
              "<style scoped>\n",
              "    .dataframe tbody tr th:only-of-type {\n",
              "        vertical-align: middle;\n",
              "    }\n",
              "\n",
              "    .dataframe tbody tr th {\n",
              "        vertical-align: top;\n",
              "    }\n",
              "\n",
              "    .dataframe thead th {\n",
              "        text-align: right;\n",
              "    }\n",
              "</style>\n",
              "<table border=\"1\" class=\"dataframe\">\n",
              "  <thead>\n",
              "    <tr style=\"text-align: right;\">\n",
              "      <th></th>\n",
              "      <th>sentiment</th>\n",
              "      <th>id</th>\n",
              "      <th>date</th>\n",
              "      <th>query</th>\n",
              "      <th>user_id</th>\n",
              "      <th>text</th>\n",
              "    </tr>\n",
              "  </thead>\n",
              "  <tbody>\n",
              "    <tr>\n",
              "      <th>0</th>\n",
              "      <td>0</td>\n",
              "      <td>1467810369</td>\n",
              "      <td>Mon Apr 06 22:19:45 PDT 2009</td>\n",
              "      <td>NO_QUERY</td>\n",
              "      <td>_TheSpecialOne_</td>\n",
              "      <td>@switchfoot http://twitpic.com/2y1zl - Awww, t...</td>\n",
              "    </tr>\n",
              "    <tr>\n",
              "      <th>1</th>\n",
              "      <td>0</td>\n",
              "      <td>1467810672</td>\n",
              "      <td>Mon Apr 06 22:19:49 PDT 2009</td>\n",
              "      <td>NO_QUERY</td>\n",
              "      <td>scotthamilton</td>\n",
              "      <td>is upset that he can't update his Facebook by ...</td>\n",
              "    </tr>\n",
              "    <tr>\n",
              "      <th>2</th>\n",
              "      <td>0</td>\n",
              "      <td>1467810917</td>\n",
              "      <td>Mon Apr 06 22:19:53 PDT 2009</td>\n",
              "      <td>NO_QUERY</td>\n",
              "      <td>mattycus</td>\n",
              "      <td>@Kenichan I dived many times for the ball. Man...</td>\n",
              "    </tr>\n",
              "    <tr>\n",
              "      <th>3</th>\n",
              "      <td>0</td>\n",
              "      <td>1467811184</td>\n",
              "      <td>Mon Apr 06 22:19:57 PDT 2009</td>\n",
              "      <td>NO_QUERY</td>\n",
              "      <td>ElleCTF</td>\n",
              "      <td>my whole body feels itchy and like its on fire</td>\n",
              "    </tr>\n",
              "    <tr>\n",
              "      <th>4</th>\n",
              "      <td>0</td>\n",
              "      <td>1467811193</td>\n",
              "      <td>Mon Apr 06 22:19:57 PDT 2009</td>\n",
              "      <td>NO_QUERY</td>\n",
              "      <td>Karoli</td>\n",
              "      <td>@nationwideclass no, it's not behaving at all....</td>\n",
              "    </tr>\n",
              "  </tbody>\n",
              "</table>\n",
              "</div>"
            ],
            "text/plain": [
              "   sentiment  ...                                               text\n",
              "0          0  ...  @switchfoot http://twitpic.com/2y1zl - Awww, t...\n",
              "1          0  ...  is upset that he can't update his Facebook by ...\n",
              "2          0  ...  @Kenichan I dived many times for the ball. Man...\n",
              "3          0  ...    my whole body feels itchy and like its on fire \n",
              "4          0  ...  @nationwideclass no, it's not behaving at all....\n",
              "\n",
              "[5 rows x 6 columns]"
            ]
          },
          "metadata": {
            "tags": []
          },
          "execution_count": 6
        }
      ]
    },
    {
      "cell_type": "markdown",
      "metadata": {
        "id": "ZvZLVJmVMFge"
      },
      "source": [
        "Droping unwanted labels"
      ]
    },
    {
      "cell_type": "code",
      "metadata": {
        "id": "YtceHbIgRsn-"
      },
      "source": [
        "df = df.drop(['id', 'date', 'query', 'user_id'], axis=1)"
      ],
      "execution_count": null,
      "outputs": []
    },
    {
      "cell_type": "code",
      "metadata": {
        "id": "Ui1fQQqxRwHI",
        "colab": {
          "base_uri": "https://localhost:8080/",
          "height": 198
        },
        "outputId": "0516d8f9-dbf0-4981-cb4a-83d5caa0ee32"
      },
      "source": [
        "lab_to_sentiment = {0:\"Negative\", 4:\"Positive\"}\n",
        "def label_decoder(label):\n",
        "  return lab_to_sentiment[label]\n",
        "df.sentiment = df.sentiment.apply(lambda x: label_decoder(x))\n",
        "df.head()"
      ],
      "execution_count": null,
      "outputs": [
        {
          "output_type": "execute_result",
          "data": {
            "text/html": [
              "<div>\n",
              "<style scoped>\n",
              "    .dataframe tbody tr th:only-of-type {\n",
              "        vertical-align: middle;\n",
              "    }\n",
              "\n",
              "    .dataframe tbody tr th {\n",
              "        vertical-align: top;\n",
              "    }\n",
              "\n",
              "    .dataframe thead th {\n",
              "        text-align: right;\n",
              "    }\n",
              "</style>\n",
              "<table border=\"1\" class=\"dataframe\">\n",
              "  <thead>\n",
              "    <tr style=\"text-align: right;\">\n",
              "      <th></th>\n",
              "      <th>sentiment</th>\n",
              "      <th>text</th>\n",
              "    </tr>\n",
              "  </thead>\n",
              "  <tbody>\n",
              "    <tr>\n",
              "      <th>0</th>\n",
              "      <td>Negative</td>\n",
              "      <td>@switchfoot http://twitpic.com/2y1zl - Awww, t...</td>\n",
              "    </tr>\n",
              "    <tr>\n",
              "      <th>1</th>\n",
              "      <td>Negative</td>\n",
              "      <td>is upset that he can't update his Facebook by ...</td>\n",
              "    </tr>\n",
              "    <tr>\n",
              "      <th>2</th>\n",
              "      <td>Negative</td>\n",
              "      <td>@Kenichan I dived many times for the ball. Man...</td>\n",
              "    </tr>\n",
              "    <tr>\n",
              "      <th>3</th>\n",
              "      <td>Negative</td>\n",
              "      <td>my whole body feels itchy and like its on fire</td>\n",
              "    </tr>\n",
              "    <tr>\n",
              "      <th>4</th>\n",
              "      <td>Negative</td>\n",
              "      <td>@nationwideclass no, it's not behaving at all....</td>\n",
              "    </tr>\n",
              "  </tbody>\n",
              "</table>\n",
              "</div>"
            ],
            "text/plain": [
              "  sentiment                                               text\n",
              "0  Negative  @switchfoot http://twitpic.com/2y1zl - Awww, t...\n",
              "1  Negative  is upset that he can't update his Facebook by ...\n",
              "2  Negative  @Kenichan I dived many times for the ball. Man...\n",
              "3  Negative    my whole body feels itchy and like its on fire \n",
              "4  Negative  @nationwideclass no, it's not behaving at all...."
            ]
          },
          "metadata": {
            "tags": []
          },
          "execution_count": 8
        }
      ]
    },
    {
      "cell_type": "code",
      "metadata": {
        "id": "eueWtKXLR0UW",
        "colab": {
          "base_uri": "https://localhost:8080/",
          "height": 348
        },
        "outputId": "81b43169-be35-4c5c-c696-ba343e37e1e0"
      },
      "source": [
        "import random\n",
        "random_idx_list = [random.randint(1,len(df.text)) for i in range(10)] \n",
        "df.loc[random_idx_list,:].head(10) "
      ],
      "execution_count": null,
      "outputs": [
        {
          "output_type": "execute_result",
          "data": {
            "text/html": [
              "<div>\n",
              "<style scoped>\n",
              "    .dataframe tbody tr th:only-of-type {\n",
              "        vertical-align: middle;\n",
              "    }\n",
              "\n",
              "    .dataframe tbody tr th {\n",
              "        vertical-align: top;\n",
              "    }\n",
              "\n",
              "    .dataframe thead th {\n",
              "        text-align: right;\n",
              "    }\n",
              "</style>\n",
              "<table border=\"1\" class=\"dataframe\">\n",
              "  <thead>\n",
              "    <tr style=\"text-align: right;\">\n",
              "      <th></th>\n",
              "      <th>sentiment</th>\n",
              "      <th>text</th>\n",
              "    </tr>\n",
              "  </thead>\n",
              "  <tbody>\n",
              "    <tr>\n",
              "      <th>597265</th>\n",
              "      <td>Negative</td>\n",
              "      <td>cant wait till June is OVER.... so I can relax...</td>\n",
              "    </tr>\n",
              "    <tr>\n",
              "      <th>722278</th>\n",
              "      <td>Negative</td>\n",
              "      <td>weird banging noises coming from outside. my n...</td>\n",
              "    </tr>\n",
              "    <tr>\n",
              "      <th>442106</th>\n",
              "      <td>Negative</td>\n",
              "      <td>My Hair Is Fading</td>\n",
              "    </tr>\n",
              "    <tr>\n",
              "      <th>330623</th>\n",
              "      <td>Negative</td>\n",
              "      <td>@theokyres but... it's JUNE!</td>\n",
              "    </tr>\n",
              "    <tr>\n",
              "      <th>1232666</th>\n",
              "      <td>Positive</td>\n",
              "      <td>Yeah relax</td>\n",
              "    </tr>\n",
              "    <tr>\n",
              "      <th>463453</th>\n",
              "      <td>Negative</td>\n",
              "      <td>Hate to see animals in distress  how can human...</td>\n",
              "    </tr>\n",
              "    <tr>\n",
              "      <th>1007355</th>\n",
              "      <td>Positive</td>\n",
              "      <td>SCREW YOU ABC for ending this seasons LOST lik...</td>\n",
              "    </tr>\n",
              "    <tr>\n",
              "      <th>217710</th>\n",
              "      <td>Negative</td>\n",
              "      <td>I want out of my Verizon contract now.</td>\n",
              "    </tr>\n",
              "    <tr>\n",
              "      <th>544382</th>\n",
              "      <td>Negative</td>\n",
              "      <td>@AshyMae87 &amp;amp; @gadlikewhoa I need you both ...</td>\n",
              "    </tr>\n",
              "    <tr>\n",
              "      <th>1506912</th>\n",
              "      <td>Positive</td>\n",
              "      <td>On my way home!</td>\n",
              "    </tr>\n",
              "  </tbody>\n",
              "</table>\n",
              "</div>"
            ],
            "text/plain": [
              "        sentiment                                               text\n",
              "597265   Negative  cant wait till June is OVER.... so I can relax...\n",
              "722278   Negative  weird banging noises coming from outside. my n...\n",
              "442106   Negative                                 My Hair Is Fading \n",
              "330623   Negative                      @theokyres but... it's JUNE! \n",
              "1232666  Positive                                        Yeah relax \n",
              "463453   Negative  Hate to see animals in distress  how can human...\n",
              "1007355  Positive  SCREW YOU ABC for ending this seasons LOST lik...\n",
              "217710   Negative            I want out of my Verizon contract now. \n",
              "544382   Negative  @AshyMae87 &amp; @gadlikewhoa I need you both ...\n",
              "1506912  Positive                                   On my way home! "
            ]
          },
          "metadata": {
            "tags": []
          },
          "execution_count": 9
        }
      ]
    },
    {
      "cell_type": "markdown",
      "metadata": {
        "id": "yUTynfvLBi5I"
      },
      "source": [
        "Stop word removal"
      ]
    },
    {
      "cell_type": "code",
      "metadata": {
        "id": "m4dhzIwwSi1S",
        "colab": {
          "base_uri": "https://localhost:8080/"
        },
        "outputId": "8447a238-83ec-41a6-ba5a-8cf0a45c52a6"
      },
      "source": [
        "stop_words = stopwords.words('english')\n",
        "neg = ['Not','no',\"don't\",'should',\"aren't\", 'couldn', \"couldn't\", 'didn', \"didn't\", 'doesn', \"doesn't\", 'hadn', \"hadn't\", 'hasn', \"hasn't\", 'haven', \"haven't\", 'isn', \"isn't\", 'ma', 'mightn', \"mightn't\", 'mustn', \"mustn't\", 'needn', \"needn't\", 'shan', \"shan't\", 'shouldn', \"shouldn't\", 'wasn', \"wasn't\", 'weren', \"weren't\", 'won', \"won't\", 'wouldn', \"wouldn't\"]\n",
        "Stop_words = [e for e in stop_words if e not in neg]\n",
        "print(Stop_words)\n",
        "stemmer = SnowballStemmer('english')\n",
        "\n",
        "text_cleaning_re = \"@\\S+|https?:\\S+|http?:\\S|[^A-Za-z0-9]+\""
      ],
      "execution_count": null,
      "outputs": [
        {
          "output_type": "stream",
          "text": [
            "['i', 'me', 'my', 'myself', 'we', 'our', 'ours', 'ourselves', 'you', \"you're\", \"you've\", \"you'll\", \"you'd\", 'your', 'yours', 'yourself', 'yourselves', 'he', 'him', 'his', 'himself', 'she', \"she's\", 'her', 'hers', 'herself', 'it', \"it's\", 'its', 'itself', 'they', 'them', 'their', 'theirs', 'themselves', 'what', 'which', 'who', 'whom', 'this', 'that', \"that'll\", 'these', 'those', 'am', 'is', 'are', 'was', 'were', 'be', 'been', 'being', 'have', 'has', 'had', 'having', 'do', 'does', 'did', 'doing', 'a', 'an', 'the', 'and', 'but', 'if', 'or', 'because', 'as', 'until', 'while', 'of', 'at', 'by', 'for', 'with', 'about', 'against', 'between', 'into', 'through', 'during', 'before', 'after', 'above', 'below', 'to', 'from', 'up', 'down', 'in', 'out', 'on', 'off', 'over', 'under', 'again', 'further', 'then', 'once', 'here', 'there', 'when', 'where', 'why', 'how', 'all', 'any', 'both', 'each', 'few', 'more', 'most', 'other', 'some', 'such', 'nor', 'not', 'only', 'own', 'same', 'so', 'than', 'too', 'very', 's', 't', 'can', 'will', 'just', 'don', \"should've\", 'now', 'd', 'll', 'm', 'o', 're', 've', 'y', 'ain', 'aren']\n"
          ],
          "name": "stdout"
        }
      ]
    },
    {
      "cell_type": "code",
      "metadata": {
        "id": "ZIzujosuSm1_"
      },
      "source": [
        "def preprocess(text, stem=False):\n",
        "  text = re.sub(text_cleaning_re, ' ', str(text).lower()).strip()\n",
        "  tokens = []\n",
        "  for token in text.split():\n",
        "    if token not in Stop_words:\n",
        "      if stem:\n",
        "        tokens.append(stemmer.stem(token))\n",
        "      else:\n",
        "        tokens.append(token)\n",
        "  return \" \".join(tokens)\n",
        " "
      ],
      "execution_count": null,
      "outputs": []
    },
    {
      "cell_type": "code",
      "metadata": {
        "id": "q5SMcW4iSp70",
        "colab": {
          "base_uri": "https://localhost:8080/",
          "height": 198
        },
        "outputId": "d98f9653-551d-41cd-b2eb-1718ac1630d9"
      },
      "source": [
        "df.text = df.text.apply(lambda x: preprocess(x))\n",
        "df.head()"
      ],
      "execution_count": null,
      "outputs": [
        {
          "output_type": "execute_result",
          "data": {
            "text/html": [
              "<div>\n",
              "<style scoped>\n",
              "    .dataframe tbody tr th:only-of-type {\n",
              "        vertical-align: middle;\n",
              "    }\n",
              "\n",
              "    .dataframe tbody tr th {\n",
              "        vertical-align: top;\n",
              "    }\n",
              "\n",
              "    .dataframe thead th {\n",
              "        text-align: right;\n",
              "    }\n",
              "</style>\n",
              "<table border=\"1\" class=\"dataframe\">\n",
              "  <thead>\n",
              "    <tr style=\"text-align: right;\">\n",
              "      <th></th>\n",
              "      <th>sentiment</th>\n",
              "      <th>text</th>\n",
              "    </tr>\n",
              "  </thead>\n",
              "  <tbody>\n",
              "    <tr>\n",
              "      <th>0</th>\n",
              "      <td>Negative</td>\n",
              "      <td>awww bummer shoulda got david carr third day</td>\n",
              "    </tr>\n",
              "    <tr>\n",
              "      <th>1</th>\n",
              "      <td>Negative</td>\n",
              "      <td>upset update facebook texting might cry result...</td>\n",
              "    </tr>\n",
              "    <tr>\n",
              "      <th>2</th>\n",
              "      <td>Negative</td>\n",
              "      <td>dived many times ball managed save 50 rest go ...</td>\n",
              "    </tr>\n",
              "    <tr>\n",
              "      <th>3</th>\n",
              "      <td>Negative</td>\n",
              "      <td>whole body feels itchy like fire</td>\n",
              "    </tr>\n",
              "    <tr>\n",
              "      <th>4</th>\n",
              "      <td>Negative</td>\n",
              "      <td>no behaving mad see</td>\n",
              "    </tr>\n",
              "  </tbody>\n",
              "</table>\n",
              "</div>"
            ],
            "text/plain": [
              "  sentiment                                               text\n",
              "0  Negative       awww bummer shoulda got david carr third day\n",
              "1  Negative  upset update facebook texting might cry result...\n",
              "2  Negative  dived many times ball managed save 50 rest go ...\n",
              "3  Negative                   whole body feels itchy like fire\n",
              "4  Negative                                no behaving mad see"
            ]
          },
          "metadata": {
            "tags": []
          },
          "execution_count": 12
        }
      ]
    },
    {
      "cell_type": "markdown",
      "metadata": {
        "id": "-PLx2hPIBzni"
      },
      "source": [
        "Spliting into Training and Test data"
      ]
    },
    {
      "cell_type": "code",
      "metadata": {
        "id": "Nevq8guosPgT"
      },
      "source": [
        "TRAIN_SIZE = 0.8\n",
        "MAX_NB_WORDS = 100000       # max number of words for tokenizer\n",
        "MAX_SEQUENCE_LENGTH = 30    # max length of each sentences\n",
        "\n"
      ],
      "execution_count": null,
      "outputs": []
    },
    {
      "cell_type": "code",
      "metadata": {
        "colab": {
          "base_uri": "https://localhost:8080/"
        },
        "id": "eIKLbyXbtLc7",
        "outputId": "2a5d8e28-d759-40ef-fc47-e33e746305f0"
      },
      "source": [
        "train_data, test_data = train_test_split(df, test_size=1-TRAIN_SIZE,random_state=7) # Splits Dataset into Training and Testing set\n",
        "print(\"Train Data size:\", len(train_data))\n",
        "print(\"Test Data size\", len(test_data))"
      ],
      "execution_count": null,
      "outputs": [
        {
          "output_type": "stream",
          "text": [
            "Train Data size: 1280000\n",
            "Test Data size 320000\n"
          ],
          "name": "stdout"
        }
      ]
    },
    {
      "cell_type": "code",
      "metadata": {
        "id": "vhyEfJ5wsPuv",
        "colab": {
          "base_uri": "https://localhost:8080/",
          "height": 348
        },
        "outputId": "ecb696d9-0098-417a-8829-62176a951435"
      },
      "source": [
        "train_data.head(10)"
      ],
      "execution_count": null,
      "outputs": [
        {
          "output_type": "execute_result",
          "data": {
            "text/html": [
              "<div>\n",
              "<style scoped>\n",
              "    .dataframe tbody tr th:only-of-type {\n",
              "        vertical-align: middle;\n",
              "    }\n",
              "\n",
              "    .dataframe tbody tr th {\n",
              "        vertical-align: top;\n",
              "    }\n",
              "\n",
              "    .dataframe thead th {\n",
              "        text-align: right;\n",
              "    }\n",
              "</style>\n",
              "<table border=\"1\" class=\"dataframe\">\n",
              "  <thead>\n",
              "    <tr style=\"text-align: right;\">\n",
              "      <th></th>\n",
              "      <th>sentiment</th>\n",
              "      <th>text</th>\n",
              "    </tr>\n",
              "  </thead>\n",
              "  <tbody>\n",
              "    <tr>\n",
              "      <th>23786</th>\n",
              "      <td>Negative</td>\n",
              "      <td>need friends</td>\n",
              "    </tr>\n",
              "    <tr>\n",
              "      <th>182699</th>\n",
              "      <td>Negative</td>\n",
              "      <td>im trying call impossible</td>\n",
              "    </tr>\n",
              "    <tr>\n",
              "      <th>476661</th>\n",
              "      <td>Negative</td>\n",
              "      <td>good pace going 3k 13 min missed 5k turn ended...</td>\n",
              "    </tr>\n",
              "    <tr>\n",
              "      <th>1181490</th>\n",
              "      <td>Positive</td>\n",
              "      <td>u gonna shows ny soon luv see u live</td>\n",
              "    </tr>\n",
              "    <tr>\n",
              "      <th>878773</th>\n",
              "      <td>Positive</td>\n",
              "      <td>hell yea get em tattoos ink free wish parents ...</td>\n",
              "    </tr>\n",
              "    <tr>\n",
              "      <th>130866</th>\n",
              "      <td>Negative</td>\n",
              "      <td>yeah need 2 see ur mom calls back first rememb...</td>\n",
              "    </tr>\n",
              "    <tr>\n",
              "      <th>1235876</th>\n",
              "      <td>Positive</td>\n",
              "      <td>sounds like cup tea sign</td>\n",
              "    </tr>\n",
              "    <tr>\n",
              "      <th>717314</th>\n",
              "      <td>Negative</td>\n",
              "      <td>tired want sleep wtf</td>\n",
              "    </tr>\n",
              "    <tr>\n",
              "      <th>969880</th>\n",
              "      <td>Positive</td>\n",
              "      <td>amazing wish</td>\n",
              "    </tr>\n",
              "    <tr>\n",
              "      <th>748698</th>\n",
              "      <td>Negative</td>\n",
              "      <td>thank god wkrn abc affiliate nashville back mi...</td>\n",
              "    </tr>\n",
              "  </tbody>\n",
              "</table>\n",
              "</div>"
            ],
            "text/plain": [
              "        sentiment                                               text\n",
              "23786    Negative                                       need friends\n",
              "182699   Negative                          im trying call impossible\n",
              "476661   Negative  good pace going 3k 13 min missed 5k turn ended...\n",
              "1181490  Positive               u gonna shows ny soon luv see u live\n",
              "878773   Positive  hell yea get em tattoos ink free wish parents ...\n",
              "130866   Negative  yeah need 2 see ur mom calls back first rememb...\n",
              "1235876  Positive                           sounds like cup tea sign\n",
              "717314   Negative                               tired want sleep wtf\n",
              "969880   Positive                                       amazing wish\n",
              "748698   Negative  thank god wkrn abc affiliate nashville back mi..."
            ]
          },
          "metadata": {
            "tags": []
          },
          "execution_count": 15
        }
      ]
    },
    {
      "cell_type": "code",
      "metadata": {
        "id": "wlynrpj3zBjR",
        "colab": {
          "base_uri": "https://localhost:8080/",
          "height": 348
        },
        "outputId": "8404787e-25fc-4eb8-a4fb-1740b4a8b5f7"
      },
      "source": [
        "test_data.head(10)"
      ],
      "execution_count": null,
      "outputs": [
        {
          "output_type": "execute_result",
          "data": {
            "text/html": [
              "<div>\n",
              "<style scoped>\n",
              "    .dataframe tbody tr th:only-of-type {\n",
              "        vertical-align: middle;\n",
              "    }\n",
              "\n",
              "    .dataframe tbody tr th {\n",
              "        vertical-align: top;\n",
              "    }\n",
              "\n",
              "    .dataframe thead th {\n",
              "        text-align: right;\n",
              "    }\n",
              "</style>\n",
              "<table border=\"1\" class=\"dataframe\">\n",
              "  <thead>\n",
              "    <tr style=\"text-align: right;\">\n",
              "      <th></th>\n",
              "      <th>sentiment</th>\n",
              "      <th>text</th>\n",
              "    </tr>\n",
              "  </thead>\n",
              "  <tbody>\n",
              "    <tr>\n",
              "      <th>709290</th>\n",
              "      <td>Negative</td>\n",
              "      <td>feelin lately no reason</td>\n",
              "    </tr>\n",
              "    <tr>\n",
              "      <th>654075</th>\n",
              "      <td>Negative</td>\n",
              "      <td>ju clare elly zoe leave marbella</td>\n",
              "    </tr>\n",
              "    <tr>\n",
              "      <th>728623</th>\n",
              "      <td>Negative</td>\n",
              "      <td>wish couldve seen miley nick sing 2night</td>\n",
              "    </tr>\n",
              "    <tr>\n",
              "      <th>697650</th>\n",
              "      <td>Negative</td>\n",
              "      <td>work today 1 hour 6 go</td>\n",
              "    </tr>\n",
              "    <tr>\n",
              "      <th>1244425</th>\n",
              "      <td>Positive</td>\n",
              "      <td>started catch house viewing kind odd watched b...</td>\n",
              "    </tr>\n",
              "    <tr>\n",
              "      <th>471810</th>\n",
              "      <td>Negative</td>\n",
              "      <td>yeah already applied couple one really want go...</td>\n",
              "    </tr>\n",
              "    <tr>\n",
              "      <th>928654</th>\n",
              "      <td>Positive</td>\n",
              "      <td>watching spanish television mom</td>\n",
              "    </tr>\n",
              "    <tr>\n",
              "      <th>81604</th>\n",
              "      <td>Negative</td>\n",
              "      <td>2 days go still know even spend 2k mom said sa...</td>\n",
              "    </tr>\n",
              "    <tr>\n",
              "      <th>395779</th>\n",
              "      <td>Negative</td>\n",
              "      <td>heart breaking news mustang travelled accross ...</td>\n",
              "    </tr>\n",
              "    <tr>\n",
              "      <th>874650</th>\n",
              "      <td>Positive</td>\n",
              "      <td>time disconnect fantastic dinner waiting great...</td>\n",
              "    </tr>\n",
              "  </tbody>\n",
              "</table>\n",
              "</div>"
            ],
            "text/plain": [
              "        sentiment                                               text\n",
              "709290   Negative                            feelin lately no reason\n",
              "654075   Negative                   ju clare elly zoe leave marbella\n",
              "728623   Negative           wish couldve seen miley nick sing 2night\n",
              "697650   Negative                             work today 1 hour 6 go\n",
              "1244425  Positive  started catch house viewing kind odd watched b...\n",
              "471810   Negative  yeah already applied couple one really want go...\n",
              "928654   Positive                    watching spanish television mom\n",
              "81604    Negative  2 days go still know even spend 2k mom said sa...\n",
              "395779   Negative  heart breaking news mustang travelled accross ...\n",
              "874650   Positive  time disconnect fantastic dinner waiting great..."
            ]
          },
          "metadata": {
            "tags": []
          },
          "execution_count": 16
        }
      ]
    },
    {
      "cell_type": "markdown",
      "metadata": {
        "id": "ffu7ioVaCD7v"
      },
      "source": [
        "Tokenization"
      ]
    },
    {
      "cell_type": "code",
      "metadata": {
        "id": "vNfqhOzZzQaz",
        "colab": {
          "base_uri": "https://localhost:8080/"
        },
        "outputId": "2328a52a-4a60-4320-d626-e4ff04e522c5"
      },
      "source": [
        "from keras.preprocessing.text import Tokenizer\n",
        "\n",
        "tokenizer = Tokenizer()\n",
        "tokenizer.fit_on_texts(train_data.text)\n",
        "\n",
        "word_index = tokenizer.word_index\n",
        "vocab_size = len(tokenizer.word_index) + 1\n",
        "print(\"Vocabulary Size :\", vocab_size)\n",
        "df = df.drop(['sentiment'], axis=1)\n",
        "df.to_csv('raw_data.csv', index=False)\n",
        "\n"
      ],
      "execution_count": null,
      "outputs": [
        {
          "output_type": "stream",
          "text": [
            "Vocabulary Size : 290594\n"
          ],
          "name": "stdout"
        }
      ]
    },
    {
      "cell_type": "code",
      "metadata": {
        "id": "hhkVXhFNjtOI"
      },
      "source": [
        "TOKENIZER_MODEL = \"mytokenizer23_05.pkl\"\n",
        "pickle.dump(tokenizer, open(TOKENIZER_MODEL, \"wb\"), protocol=0)"
      ],
      "execution_count": null,
      "outputs": []
    },
    {
      "cell_type": "code",
      "metadata": {
        "colab": {
          "base_uri": "https://localhost:8080/"
        },
        "id": "wsC-CK59zQoe",
        "outputId": "75fbcc44-6f5e-4e55-bda0-bfdca5a08936"
      },
      "source": [
        "from keras.preprocessing.sequence import pad_sequences\n",
        "\n",
        "x_train = pad_sequences(tokenizer.texts_to_sequences(train_data.text),\n",
        "                        maxlen = MAX_SEQUENCE_LENGTH)\n",
        "x_test = pad_sequences(tokenizer.texts_to_sequences(test_data.text),\n",
        "                       maxlen = MAX_SEQUENCE_LENGTH)\n",
        "\n",
        "print(\"Training X Shape:\",x_train.shape)\n",
        "print(\"Testing X Shape:\",x_test.shape)"
      ],
      "execution_count": null,
      "outputs": [
        {
          "output_type": "stream",
          "text": [
            "Training X Shape: (1280000, 30)\n",
            "Testing X Shape: (320000, 30)\n"
          ],
          "name": "stdout"
        }
      ]
    },
    {
      "cell_type": "code",
      "metadata": {
        "id": "IqfSu6xZ1rgN"
      },
      "source": [
        "labels = train_data.sentiment.unique().tolist()"
      ],
      "execution_count": null,
      "outputs": []
    },
    {
      "cell_type": "code",
      "metadata": {
        "colab": {
          "base_uri": "https://localhost:8080/"
        },
        "id": "dNiB4NZg14Tx",
        "outputId": "aa8169b0-a95a-413f-c908-a0211d9211bc"
      },
      "source": [
        "encoder = LabelEncoder()\n",
        "encoder.fit(train_data.sentiment.to_list())\n",
        "\n",
        "y_train = encoder.transform(train_data.sentiment.to_list())\n",
        "y_test = encoder.transform(test_data.sentiment.to_list())\n",
        "\n",
        "y_train = y_train.reshape(-1,1)\n",
        "y_test = y_test.reshape(-1,1)\n",
        "\n",
        "print(\"y_train shape:\", y_train.shape)\n",
        "print(\"y_test shape:\", y_test.shape)"
      ],
      "execution_count": null,
      "outputs": [
        {
          "output_type": "stream",
          "text": [
            "y_train shape: (1280000, 1)\n",
            "y_test shape: (320000, 1)\n"
          ],
          "name": "stdout"
        }
      ]
    },
    {
      "cell_type": "markdown",
      "metadata": {
        "id": "7sTJOmsoCL6b"
      },
      "source": [
        "Word embedding"
      ]
    },
    {
      "cell_type": "code",
      "metadata": {
        "id": "lSJqf9Hth1fL",
        "colab": {
          "base_uri": "https://localhost:8080/"
        },
        "outputId": "c61476a8-088c-4b3f-85ef-742826c09c09"
      },
      "source": [
        "!wget http://nlp.stanford.edu/data/glove.6B.zip\n",
        "!unzip glove.6B.zip"
      ],
      "execution_count": null,
      "outputs": [
        {
          "output_type": "stream",
          "text": [
            "--2021-05-23 06:46:33--  http://nlp.stanford.edu/data/glove.6B.zip\n",
            "Resolving nlp.stanford.edu (nlp.stanford.edu)... 171.64.67.140\n",
            "Connecting to nlp.stanford.edu (nlp.stanford.edu)|171.64.67.140|:80... connected.\n",
            "HTTP request sent, awaiting response... 302 Found\n",
            "Location: https://nlp.stanford.edu/data/glove.6B.zip [following]\n",
            "--2021-05-23 06:46:33--  https://nlp.stanford.edu/data/glove.6B.zip\n",
            "Connecting to nlp.stanford.edu (nlp.stanford.edu)|171.64.67.140|:443... connected.\n",
            "HTTP request sent, awaiting response... 301 Moved Permanently\n",
            "Location: http://downloads.cs.stanford.edu/nlp/data/glove.6B.zip [following]\n",
            "--2021-05-23 06:46:33--  http://downloads.cs.stanford.edu/nlp/data/glove.6B.zip\n",
            "Resolving downloads.cs.stanford.edu (downloads.cs.stanford.edu)... 171.64.64.22\n",
            "Connecting to downloads.cs.stanford.edu (downloads.cs.stanford.edu)|171.64.64.22|:80... connected.\n",
            "HTTP request sent, awaiting response... 200 OK\n",
            "Length: 862182613 (822M) [application/zip]\n",
            "Saving to: ‘glove.6B.zip’\n",
            "\n",
            "glove.6B.zip        100%[===================>] 822.24M  5.08MB/s    in 2m 41s  \n",
            "\n",
            "2021-05-23 06:49:15 (5.11 MB/s) - ‘glove.6B.zip’ saved [862182613/862182613]\n",
            "\n",
            "Archive:  glove.6B.zip\n",
            "  inflating: glove.6B.50d.txt        \n",
            "  inflating: glove.6B.100d.txt       \n",
            "  inflating: glove.6B.200d.txt       \n",
            "  inflating: glove.6B.300d.txt       \n"
          ],
          "name": "stdout"
        }
      ]
    },
    {
      "cell_type": "code",
      "metadata": {
        "id": "AD_dNvmykc6j"
      },
      "source": [
        "GLOVE_EMB = '/content/glove.6B.300d.txt'\n",
        "EMBEDDING_DIM = 300          \n",
        "LR = 1e-3\n",
        "BATCH_SIZE = 200\n",
        "EPOCHS = 15"
      ],
      "execution_count": null,
      "outputs": []
    },
    {
      "cell_type": "code",
      "metadata": {
        "colab": {
          "base_uri": "https://localhost:8080/"
        },
        "id": "jWlaxJafkh3z",
        "outputId": "b8edcbd5-a1d5-49fd-a93b-17d5c8a193b5"
      },
      "source": [
        "embeddings_index = {}\n",
        "\n",
        "f = open(GLOVE_EMB)\n",
        "for line in f:\n",
        "  values = line.split()\n",
        "  word = value = values[0]\n",
        "  coefs = np.asarray(values[1:], dtype='float32')\n",
        "  embeddings_index[word] = coefs\n",
        "f.close()\n",
        "\n",
        "print('Found %s word vectors.' %len(embeddings_index))"
      ],
      "execution_count": null,
      "outputs": [
        {
          "output_type": "stream",
          "text": [
            "Found 400000 word vectors.\n"
          ],
          "name": "stdout"
        }
      ]
    },
    {
      "cell_type": "code",
      "metadata": {
        "id": "wzmFOck3koiz"
      },
      "source": [
        "\n",
        "embedding_matrix = np.zeros((vocab_size, EMBEDDING_DIM))\n",
        "for word, i in word_index.items():\n",
        "  embedding_vector = embeddings_index.get(word)\n",
        "  if embedding_vector is not None:\n",
        "    embedding_matrix[i] = embedding_vector"
      ],
      "execution_count": null,
      "outputs": []
    },
    {
      "cell_type": "code",
      "metadata": {
        "id": "4Zg3YpxhlcnY"
      },
      "source": [
        "embedding_layer = tf.keras.layers.Embedding(vocab_size,\n",
        "                                          EMBEDDING_DIM,\n",
        "                                          weights=[embedding_matrix],\n",
        "                                          input_length=MAX_SEQUENCE_LENGTH,\n",
        "                                          trainable=False)"
      ],
      "execution_count": null,
      "outputs": []
    },
    {
      "cell_type": "code",
      "metadata": {
        "id": "CkUGfsb8U8ZO"
      },
      "source": [
        ""
      ],
      "execution_count": null,
      "outputs": []
    },
    {
      "cell_type": "code",
      "metadata": {
        "id": "0oy54fJIlgsY"
      },
      "source": [
        "from tensorflow.keras.layers import Conv1D, Bidirectional, LSTM, Dense, Input, Dropout\n",
        "from tensorflow.keras.layers import SpatialDropout1D\n",
        "from tensorflow.keras.callbacks import ModelCheckpoint\n"
      ],
      "execution_count": null,
      "outputs": []
    },
    {
      "cell_type": "code",
      "metadata": {
        "id": "9KGMg6eElps2"
      },
      "source": [
        "sequence_input = Input(shape=(MAX_SEQUENCE_LENGTH,), dtype='int32')\n",
        "embedding_sequences = embedding_layer(sequence_input)\n",
        "x = SpatialDropout1D(0.2)(embedding_sequences)\n",
        "x = Conv1D(64, 5, activation='relu')(x)\n",
        "x = Bidirectional(LSTM(64, dropout=0.2, recurrent_dropout=0.2))(x)\n",
        "x = Dense(512, activation='relu')(x)\n",
        "x = Dropout(0.5)(x)\n",
        "x = Dense(512, activation='relu')(x)\n",
        "outputs = Dense(1, activation='sigmoid')(x)\n",
        "model = tf.keras.Model(sequence_input, outputs)"
      ],
      "execution_count": null,
      "outputs": []
    },
    {
      "cell_type": "code",
      "metadata": {
        "id": "tYX8x86zltge"
      },
      "source": [
        "from tensorflow.keras.optimizers import Adam\n",
        "from tensorflow.keras.callbacks import ReduceLROnPlateau\n",
        "\n",
        "model.compile(optimizer=Adam(learning_rate=LR), loss='binary_crossentropy',\n",
        "              metrics=['accuracy'])\n",
        "ReduceLROnPlateau = ReduceLROnPlateau(factor=0.1,\n",
        "                                     min_lr = 0.01,\n",
        "                                     monitor = 'val_loss',\n",
        "                                     verbose = 1)"
      ],
      "execution_count": null,
      "outputs": []
    },
    {
      "cell_type": "code",
      "metadata": {
        "id": "MwYVj8-2lxXM",
        "colab": {
          "base_uri": "https://localhost:8080/"
        },
        "outputId": "8f99f36e-f0e3-4a08-fdba-54eda476c868"
      },
      "source": [
        "print(\"Training on GPU...\") if tf.test.is_gpu_available() else print(\"Training on CPU...\")"
      ],
      "execution_count": null,
      "outputs": [
        {
          "output_type": "stream",
          "text": [
            "Training on GPU...\n"
          ],
          "name": "stdout"
        }
      ]
    },
    {
      "cell_type": "code",
      "metadata": {
        "id": "6br-22tPl1rq",
        "colab": {
          "base_uri": "https://localhost:8080/"
        },
        "outputId": "d1dd5838-8634-4401-c64c-952dd06dc083"
      },
      "source": [
        "history = model.fit(x_train, y_train, batch_size=BATCH_SIZE, epochs=EPOCHS,\n",
        "                    validation_data=(x_test, y_test), callbacks=[ReduceLROnPlateau])"
      ],
      "execution_count": null,
      "outputs": [
        {
          "output_type": "stream",
          "text": [
            "Epoch 1/15\n",
            "6400/6400 [==============================] - 71s 11ms/step - loss: 0.4830 - accuracy: 0.7667 - val_loss: 0.4627 - val_accuracy: 0.7802\n",
            "Epoch 2/15\n",
            "6400/6400 [==============================] - 68s 11ms/step - loss: 0.4692 - accuracy: 0.7753 - val_loss: 0.4537 - val_accuracy: 0.7850\n",
            "Epoch 3/15\n",
            "6400/6400 [==============================] - 67s 10ms/step - loss: 0.4619 - accuracy: 0.7800 - val_loss: 0.4510 - val_accuracy: 0.7871\n",
            "Epoch 4/15\n",
            "6400/6400 [==============================] - 66s 10ms/step - loss: 0.4573 - accuracy: 0.7830 - val_loss: 0.4480 - val_accuracy: 0.7887\n",
            "Epoch 5/15\n",
            "6400/6400 [==============================] - 69s 11ms/step - loss: 0.4543 - accuracy: 0.7849 - val_loss: 0.4465 - val_accuracy: 0.7894\n",
            "Epoch 6/15\n",
            "6400/6400 [==============================] - 68s 11ms/step - loss: 0.4519 - accuracy: 0.7860 - val_loss: 0.4471 - val_accuracy: 0.7899\n",
            "Epoch 7/15\n",
            "6400/6400 [==============================] - 67s 11ms/step - loss: 0.4497 - accuracy: 0.7873 - val_loss: 0.4455 - val_accuracy: 0.7905\n",
            "Epoch 8/15\n",
            "6400/6400 [==============================] - 66s 10ms/step - loss: 0.4483 - accuracy: 0.7882 - val_loss: 0.4437 - val_accuracy: 0.7910\n",
            "Epoch 9/15\n",
            "6400/6400 [==============================] - 66s 10ms/step - loss: 0.4468 - accuracy: 0.7893 - val_loss: 0.4433 - val_accuracy: 0.7917\n",
            "Epoch 10/15\n",
            "6400/6400 [==============================] - 67s 10ms/step - loss: 0.4459 - accuracy: 0.7899 - val_loss: 0.4433 - val_accuracy: 0.7916\n",
            "Epoch 11/15\n",
            "6400/6400 [==============================] - 65s 10ms/step - loss: 0.4450 - accuracy: 0.7902 - val_loss: 0.4437 - val_accuracy: 0.7919\n",
            "Epoch 12/15\n",
            "6400/6400 [==============================] - 66s 10ms/step - loss: 0.4444 - accuracy: 0.7905 - val_loss: 0.4419 - val_accuracy: 0.7923\n",
            "Epoch 13/15\n",
            "6400/6400 [==============================] - 66s 10ms/step - loss: 0.4436 - accuracy: 0.7906 - val_loss: 0.4427 - val_accuracy: 0.7927\n",
            "Epoch 14/15\n",
            "6400/6400 [==============================] - 68s 11ms/step - loss: 0.4432 - accuracy: 0.7910 - val_loss: 0.4423 - val_accuracy: 0.7923\n",
            "Epoch 15/15\n",
            "6400/6400 [==============================] - 67s 10ms/step - loss: 0.4426 - accuracy: 0.7918 - val_loss: 0.4414 - val_accuracy: 0.7926\n"
          ],
          "name": "stdout"
        }
      ]
    },
    {
      "cell_type": "code",
      "metadata": {
        "colab": {
          "base_uri": "https://localhost:8080/"
        },
        "id": "SwrE1ii5Q71R",
        "outputId": "259a9ecf-49a9-4d63-9a9c-57afb9f7b5d7"
      },
      "source": [
        "score = model.evaluate(x_test, y_test, batch_size=BATCH_SIZE)\n",
        "print()\n",
        "print(\"ACCURACY:\",score[1])\n",
        "print(\"LOSS:\",score[0])"
      ],
      "execution_count": null,
      "outputs": [
        {
          "output_type": "stream",
          "text": [
            "1600/1600 [==============================] - 8s 5ms/step - loss: 0.4414 - accuracy: 0.7926\n",
            "\n",
            "ACCURACY: 0.7925687432289124\n",
            "LOSS: 0.4414364695549011\n"
          ],
          "name": "stdout"
        }
      ]
    },
    {
      "cell_type": "code",
      "metadata": {
        "id": "4rVUfY8QAj_P"
      },
      "source": [
        "from keras.models import load_model\n",
        "\n",
        "model.save('chatbot_model25_05.h5')  "
      ],
      "execution_count": null,
      "outputs": []
    },
    {
      "cell_type": "markdown",
      "metadata": {
        "id": "nZ1iyH1XcXW-"
      },
      "source": [
        "# **Evaluation**"
      ]
    },
    {
      "cell_type": "code",
      "metadata": {
        "colab": {
          "base_uri": "https://localhost:8080/",
          "height": 313
        },
        "id": "2mf9nDQxN3aR",
        "outputId": "aa2efa7d-253e-48d0-9cff-96974d5f3e51"
      },
      "source": [
        "s, (at, al) = plt.subplots(2,1)\n",
        "at.plot(history.history['accuracy'], c= 'b')\n",
        "at.plot(history.history['val_accuracy'], c='r')\n",
        "at.set_title('model accuracy')\n",
        "at.set_ylabel('accuracy')\n",
        "at.set_xlabel('epoch')\n",
        "at.legend(['LSTM_train', 'LSTM_val'], loc='upper left')\n",
        "\n",
        "al.plot(history.history['loss'], c='m')\n",
        "al.plot(history.history['val_loss'], c='c')\n",
        "al.set_title('model loss')\n",
        "al.set_ylabel('loss')\n",
        "al.set_xlabel('epoch')\n",
        "al.legend(['train', 'val'], loc = 'upper left')"
      ],
      "execution_count": null,
      "outputs": [
        {
          "output_type": "execute_result",
          "data": {
            "text/plain": [
              "<matplotlib.legend.Legend at 0x7f6e3b34a150>"
            ]
          },
          "metadata": {
            "tags": []
          },
          "execution_count": 41
        },
        {
          "output_type": "display_data",
          "data": {
            "image/png": "[encoded data removed]",
            "text/plain": [
              "<Figure size 432x288 with 2 Axes>"
            ]
          },
          "metadata": {
            "tags": [],
            "needs_background": "light"
          }
        }
      ]
    },
    {
      "cell_type": "code",
      "metadata": {
        "id": "fbLl8lz1N4JK",
        "colab": {
          "base_uri": "https://localhost:8080/"
        },
        "outputId": "ee80cd05-9ecd-4cff-d97f-54d0665f8e95"
      },
      "source": [
        "def decode_sentiment(score):\n",
        "    return \"Positive\" if score>0.5 else \"Negative\"\n",
        "\n",
        "\n",
        "scores = model.predict(x_test, verbose=1, batch_size=10000)\n",
        "y_pred_1d = [decode_sentiment(score) for score in scores]"
      ],
      "execution_count": null,
      "outputs": [
        {
          "output_type": "stream",
          "text": [
            "32/32 [==============================] - 5s 107ms/step\n"
          ],
          "name": "stdout"
        }
      ]
    },
    {
      "cell_type": "code",
      "metadata": {
        "id": "98XBXH9QN4Mx"
      },
      "source": [
        "import itertools\n",
        "from sklearn.metrics import confusion_matrix, classification_report, accuracy_score\n",
        "def plot_confusion_matrix(cm, classes,\n",
        "                          title='Confusion matrix',\n",
        "                          cmap=plt.cm.Blues):\n",
        "    \"\"\"\n",
        "    This function prints and plots the confusion matrix.\n",
        "    Normalization can be applied by setting `normalize=True`.\n",
        "    \"\"\"\n",
        "\n",
        "    cm = cm.astype('float') / cm.sum(axis=1)[:, np.newaxis]\n",
        "\n",
        "    plt.imshow(cm, interpolation='nearest', cmap=cmap)\n",
        "    plt.title(title, fontsize=20)\n",
        "    plt.colorbar()\n",
        "    tick_marks = np.arange(len(classes))\n",
        "    plt.xticks(tick_marks, classes, fontsize=13)\n",
        "    plt.yticks(tick_marks, classes, fontsize=13)\n",
        "\n",
        "    fmt = '.2f'\n",
        "    thresh = cm.max() / 2.\n",
        "    for i, j in itertools.product(range(cm.shape[0]), range(cm.shape[1])):\n",
        "        plt.text(j, i, format(cm[i, j], fmt),\n",
        "                 horizontalalignment=\"center\",\n",
        "                 color=\"white\" if cm[i, j] > thresh else \"black\")\n",
        "\n",
        "    plt.ylabel('True label', fontsize=17)\n",
        "    plt.xlabel('Predicted label', fontsize=17)"
      ],
      "execution_count": null,
      "outputs": []
    },
    {
      "cell_type": "code",
      "metadata": {
        "id": "ni-yhjTJN4Qg",
        "colab": {
          "base_uri": "https://localhost:8080/",
          "height": 370
        },
        "outputId": "d33a0f3e-fd60-4a4a-9f64-e1e97418b190"
      },
      "source": [
        "cnf_matrix = confusion_matrix(test_data.sentiment.to_list(), y_pred_1d)\n",
        "plt.figure(figsize=(6,6))\n",
        "plot_confusion_matrix(cnf_matrix, classes=test_data.sentiment.unique(), title=\"Confusion matrix\")\n",
        "plt.show()"
      ],
      "execution_count": null,
      "outputs": [
        {
          "output_type": "display_data",
          "data": {
            "image/png": "[encoded data removed]",
            "text/plain": [
              "<Figure size 432x432 with 2 Axes>"
            ]
          },
          "metadata": {
            "tags": [],
            "needs_background": "light"
          }
        }
      ]
    },
    {
      "cell_type": "code",
      "metadata": {
        "id": "t4pE-gviN4Ul",
        "colab": {
          "base_uri": "https://localhost:8080/"
        },
        "outputId": "00476dfb-2fe1-4104-d25c-757ffb061190"
      },
      "source": [
        "print(classification_report(list(test_data.sentiment), y_pred_1d))\n",
        "              "
      ],
      "execution_count": null,
      "outputs": [
        {
          "output_type": "stream",
          "text": [
            "              precision    recall  f1-score   support\n",
            "\n",
            "    Negative       0.80      0.79      0.79    160542\n",
            "    Positive       0.79      0.80      0.79    159458\n",
            "\n",
            "    accuracy                           0.79    320000\n",
            "   macro avg       0.79      0.79      0.79    320000\n",
            "weighted avg       0.79      0.79      0.79    320000\n",
            "\n"
          ],
          "name": "stdout"
        }
      ]
    },
    {
      "cell_type": "code",
      "metadata": {
        "id": "5GO4qVD-l54K"
      },
      "source": [
        "def predict(text):\n",
        "    start_at = time.time()\n",
        "    # Tokenize text\n",
        "    x_test = pad_sequences(tokenizer.texts_to_sequences([text]), maxlen=SEQUENCE_LENGTH)\n",
        "    # Predict\n",
        "    score = model.predict([x_test])[0]\n",
        "    # Decode sentiment\n",
        "    label = decode_sentiment(score)\n",
        "    return { \"score\": float(score)}\n",
        "\n",
        "   "
      ],
      "execution_count": null,
      "outputs": []
    },
    {
      "cell_type": "code",
      "metadata": {
        "id": "n-dEfkbmlaT4",
        "colab": {
          "base_uri": "https://localhost:8080/"
        },
        "outputId": "2c0ef48c-64fe-4c8b-c54e-19e52fe6d4ec"
      },
      "source": [
        "a=predict(\" i am  happy with my current living condition eventhough the situations are worst\")\n",
        "b=predict(\"they are not suppossed to do so since they are the pride of our institution\")\n",
        "c=predict(\"eventhough this situation makes me cry, i am ok to accept these thigs. its part of life\")\n",
        "d=predict(\"online classes without break makes me so happy\")\n",
        "e=predict(\"my friends doesn't try to understand me. instead they are making me depressed\")\n",
        "print(a,b,c,d,e)"
      ],
      "execution_count": null,
      "outputs": [
        {
          "output_type": "stream",
          "text": [
            "0.35609757900238037 0.5662454962730408 0.1588936597108841 0.8051376342773438 0.08204317092895508\n"
          ],
          "name": "stdout"
        }
      ]
    }
  ]
}